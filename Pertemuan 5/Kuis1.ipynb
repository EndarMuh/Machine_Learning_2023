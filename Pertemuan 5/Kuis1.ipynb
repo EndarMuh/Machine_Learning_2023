{
 "cells": [
  {
   "cell_type": "markdown",
   "metadata": {},
   "source": [
    "Nama    : Muhammad Endar Darmawan\n",
    "Kelas   : TI - 3F\n",
    "Absen   : 21\n",
    "NIM     : 2141720160"
   ]
  },
  {
   "cell_type": "markdown",
   "metadata": {},
   "source": [
    "# Deskripsi Umum\n",
    "Anda diminta untuk melakukan klasifikasi dengan menggunakan algoritma Naive Bayes dan SVM untuk merekognisi tulisan tangan dari dataset MNIST"
   ]
  },
  {
   "cell_type": "markdown",
   "metadata": {},
   "source": [
    "# Tentang Dataset MNIST\n",
    "Dataset MNIST (Modified National Institute of Standards and Technology) merupakan dataset berupa citra grayscale dengan ukuran 28x28 yang berisi tulisan tangan dari digit angka 0-9. Jumlah data dalam dataset ini adalah 70.000 data."
   ]
  },
  {
   "cell_type": "markdown",
   "metadata": {},
   "source": [
    "# Detail Kuis\n",
    "1. Pastikan jumlah data setiap label angka (0-9). Apakah terdapat data imbalance pada dataset MNIST yang digunakan? Jelaskan jawaban kelompok Anda dan buktikan!\n",
    "\n",
    "2. Tampilkan 15 buah citra pertama dari dataset MNIST berserta labelnya. Anda dapat menggunakan referensi dari Job Sheet 03.\n",
    "\n",
    "3. Lakukan proses ekstraksi fitur pada data MNIST. Pada proses ini, Anda diperbolehkan untuk\n",
    "    - Langsung menggunakan nilai asli dari citra (nilai asli setiap pixel dari dataset) sebagai fitur.\n",
    "    - Melakukan ekstraksi fitur lain seperti histogram, PCA, atau yang lainnya. Anda diperbolehkan melakukan ekspolarasi pada proses ini.\n",
    "\n",
    "4. Buatlah data training dan data testing menggunakan rasio 70:30, 80:20, 90:10.\n",
    "\n",
    "5. Lakukan proses klasifikasi dengan menggunakan algoritma Naive Bayes dan SVM.\n",
    "    - Anda diperbolehkan untuk melakukan tunning parameter.\n",
    "    - Anda diperbolehkan mengeksplorasi jenis kernel yang digunakan pada SVM.\n",
    "\n",
    "6. Evaluasi model yang Anda buat terhadap data training dan data testing.\n",
    "    - Gunakan metric accuracy untuk mengetahui tingkat akurasi data training dan data testing.\n",
    "    - Gunakan fungsi classification_report untuk mengetahui performa model secara holistik.\n",
    "    - Gunakan confusion matrix untuk mengetahui tingkat ketepatan pelabelan.\n",
    "\n",
    "7. Tampilkan citra data testing berserta hasil pelabelannya. Anda dapat menggunakan Job Sheet 03 sebagai acuan.\n",
    "\n",
    "8. Apa model terbaik yang Anda dapatkan? Bagaimana konfigurasinya? Berapa tingkat akurasi yang didapatkan? Jelaskan!"
   ]
  },
  {
   "cell_type": "markdown",
   "metadata": {},
   "source": [
    "# Jawaban"
   ]
  },
  {
   "cell_type": "code",
   "execution_count": 1,
   "metadata": {},
   "outputs": [],
   "source": [
    "#import library #\n",
    "\n",
    "# untuk manipulasi data\n",
    "import pandas as pd\n",
    "\n",
    "# untuk visualisasi data\n",
    "import seaborn as sns\n",
    "import matplotlib.pyplot as plt\n",
    "\n",
    "# untuk pre-processing data\n",
    "from sklearn.model_selection import train_test_split\n",
    "from sklearn.preprocessing import LabelEncoder, StandardScaler\n",
    "from sklearn.feature_extraction.text import CountVectorizer, ENGLISH_STOP_WORDS, TfidfVectorizer\n",
    "\n",
    "# untuk model SVM\n",
    "from sklearn.svm import SVC\n",
    "from sklearn.metrics import accuracy_score, classification_report, confusion_matrix"
   ]
  },
  {
   "cell_type": "code",
   "execution_count": 2,
   "metadata": {},
   "outputs": [
    {
     "name": "stderr",
     "output_type": "stream",
     "text": [
      "c:\\Users\\adien\\anaconda3\\Lib\\site-packages\\sklearn\\datasets\\_openml.py:1002: FutureWarning: The default value of `parser` will change from `'liac-arff'` to `'auto'` in 1.4. You can set `parser='auto'` to silence this warning. Therefore, an `ImportError` will be raised from 1.4 if the dataset is dense and pandas is not installed. Note that the pandas parser may return different data types. See the Notes Section in fetch_openml's API doc for details.\n",
      "  warn(\n"
     ]
    },
    {
     "name": "stdout",
     "output_type": "stream",
     "text": [
      "**Author**: Yann LeCun, Corinna Cortes, Christopher J.C. Burges  \n",
      "**Source**: [MNIST Website](http://yann.lecun.com/exdb/mnist/) - Date unknown  \n",
      "**Please cite**:  \n",
      "\n",
      "The MNIST database of handwritten digits with 784 features, raw data available at: http://yann.lecun.com/exdb/mnist/. It can be split in a training set of the first 60,000 examples, and a test set of 10,000 examples  \n",
      "\n",
      "It is a subset of a larger set available from NIST. The digits have been size-normalized and centered in a fixed-size image. It is a good database for people who want to try learning techniques and pattern recognition methods on real-world data while spending minimal efforts on preprocessing and formatting. The original black and white (bilevel) images from NIST were size normalized to fit in a 20x20 pixel box while preserving their aspect ratio. The resulting images contain grey levels as a result of the anti-aliasing technique used by the normalization algorithm. the images were centered in a 28x28 image by computing the center of mass of the pixels, and translating the image so as to position this point at the center of the 28x28 field.  \n",
      "\n",
      "With some classification methods (particularly template-based methods, such as SVM and K-nearest neighbors), the error rate improves when the digits are centered by bounding box rather than center of mass. If you do this kind of pre-processing, you should report it in your publications. The MNIST database was constructed from NIST's NIST originally designated SD-3 as their training set and SD-1 as their test set. However, SD-3 is much cleaner and easier to recognize than SD-1. The reason for this can be found on the fact that SD-3 was collected among Census Bureau employees, while SD-1 was collected among high-school students. Drawing sensible conclusions from learning experiments requires that the result be independent of the choice of training set and test among the complete set of samples. Therefore it was necessary to build a new database by mixing NIST's datasets.  \n",
      "\n",
      "The MNIST training set is composed of 30,000 patterns from SD-3 and 30,000 patterns from SD-1. Our test set was composed of 5,000 patterns from SD-3 and 5,000 patterns from SD-1. The 60,000 pattern training set contained examples from approximately 250 writers. We made sure that the sets of writers of the training set and test set were disjoint. SD-1 contains 58,527 digit images written by 500 different writers. In contrast to SD-3, where blocks of data from each writer appeared in sequence, the data in SD-1 is scrambled. Writer identities for SD-1 is available and we used this information to unscramble the writers. We then split SD-1 in two: characters written by the first 250 writers went into our new training set. The remaining 250 writers were placed in our test set. Thus we had two sets with nearly 30,000 examples each. The new training set was completed with enough examples from SD-3, starting at pattern # 0, to make a full set of 60,000 training patterns. Similarly, the new test set was completed with SD-3 examples starting at pattern # 35,000 to make a full set with 60,000 test patterns. Only a subset of 10,000 test images (5,000 from SD-1 and 5,000 from SD-3) is available on this site. The full 60,000 sample training set is available.\n",
      "\n",
      "Downloaded from openml.org.\n"
     ]
    },
    {
     "data": {
      "text/plain": [
       "dict_keys(['data', 'target', 'frame', 'categories', 'feature_names', 'target_names', 'DESCR', 'details', 'url'])"
      ]
     },
     "execution_count": 2,
     "metadata": {},
     "output_type": "execute_result"
    }
   ],
   "source": [
    "# Unduh Dataset MNIST\n",
    "from sklearn.datasets import fetch_openml\n",
    "\n",
    "mnist = fetch_openml('mnist_784')\n",
    "\n",
    "# Baca deskripsi dataset\n",
    "# Tahap ini mungkin diperlukan untuk lebih memahami dataset\n",
    "print(mnist.DESCR)\n",
    "\n",
    "# Inspeksi semua key dalam dataset\n",
    "# Cara ini digunakan untuk memahami struktur dari dataset MNIST\n",
    "mnist.keys()"
   ]
  },
  {
   "cell_type": "markdown",
   "metadata": {},
   "source": [
    "## No 1"
   ]
  },
  {
   "cell_type": "code",
   "execution_count": 3,
   "metadata": {},
   "outputs": [
    {
     "name": "stdout",
     "output_type": "stream",
     "text": [
      "label  jumlah data\n",
      "0      6903\n",
      "1      7877\n",
      "2      6990\n",
      "3      7141\n",
      "4      6824\n",
      "5      6313\n",
      "6      6876\n",
      "7      7293\n",
      "8      6825\n",
      "9      6958\n"
     ]
    },
    {
     "name": "stderr",
     "output_type": "stream",
     "text": [
      "C:\\Users\\adien\\AppData\\Local\\Temp\\ipykernel_28332\\732428327.py:13: FutureWarning: iteritems is deprecated and will be removed in a future version. Use .items instead.\n",
      "  for label, count in label_counts.iteritems():\n"
     ]
    },
    {
     "data": {
      "image/png": "[encoded data removed]",
      "text/plain": [
       "<Figure size 1000x500 with 1 Axes>"
      ]
     },
     "metadata": {},
     "output_type": "display_data"
    }
   ],
   "source": [
    "# Ambil target (label) dan ubah ke dalam bentuk DataFrame\n",
    "import pandas as pd\n",
    "import matplotlib.pyplot as plt\n",
    "\n",
    "df = pd.DataFrame(data=mnist.data, columns=mnist.feature_names)\n",
    "df['target'] = mnist.target\n",
    "\n",
    "# Hitung jumlah data setiap label\n",
    "label_counts = df['target'].value_counts().sort_index()\n",
    "\n",
    "# Tampilkan hasil perhitungan dengan label dan \"jumlah data\" dalam format yang diinginkan\n",
    "print(\"label  jumlah data\")\n",
    "for label, count in label_counts.iteritems():\n",
    "    print(f\"{label}      {count}\")\n",
    "\n",
    "# Menampilkan visualisasi jumlah data untuk setiap label angka\n",
    "plt.figure(figsize=(10, 5))\n",
    "plt.bar(range(10), label_counts)\n",
    "plt.xlabel('Label Angka')\n",
    "plt.ylabel('Jumlah Data')\n",
    "plt.xticks(range(10))\n",
    "plt.title('Jumlah Data untuk Setiap Label Angka dalam MNIST')\n",
    "plt.show()"
   ]
  },
  {
   "cell_type": "markdown",
   "metadata": {},
   "source": [
    "**Penjelasan**\n",
    "\n",
    "Berdasarakan"
   ]
  },
  {
   "cell_type": "markdown",
   "metadata": {},
   "source": [
    "## No 2"
   ]
  },
  {
   "cell_type": "code",
   "execution_count": 4,
   "metadata": {},
   "outputs": [
    {
     "data": {
      "image/png": "[encoded data removed]",
      "text/plain": [
       "<Figure size 1500x600 with 15 Axes>"
      ]
     },
     "metadata": {},
     "output_type": "display_data"
    }
   ],
   "source": [
    "import matplotlib.pyplot as plt\n",
    "\n",
    "# Mengambil 15 citra pertama dan labelnya\n",
    "images = mnist.data[:15].to_numpy(dtype=int)\n",
    "labels = mnist.target[:15]\n",
    "\n",
    "# Mengubah data citra menjadi bentuk yang sesuai (28x28 pixel)\n",
    "images = images.reshape(-1, 28, 28)\n",
    "\n",
    "# Menampilkan 15 citra beserta labelnya\n",
    "plt.figure(figsize=(15, 6))\n",
    "for i in range(15):\n",
    "    plt.subplot(3, 5, i + 1)\n",
    "    plt.imshow(images[i], cmap='gray')\n",
    "    plt.title(f\"Label: {labels[i]}\")\n",
    "    plt.axis('off')\n",
    "\n",
    "plt.show()"
   ]
  },
  {
   "cell_type": "markdown",
   "metadata": {},
   "source": [
    "**Penjelasan**\n",
    "sds"
   ]
  },
  {
   "cell_type": "markdown",
   "metadata": {},
   "source": [
    "## No 4"
   ]
  },
  {
   "cell_type": "code",
   "execution_count": 7,
   "metadata": {},
   "outputs": [
    {
     "ename": "NameError",
     "evalue": "name 'MinMaxScaler' is not defined",
     "output_type": "error",
     "traceback": [
      "\u001b[1;31m---------------------------------------------------------------------------\u001b[0m",
      "\u001b[1;31mNameError\u001b[0m                                 Traceback (most recent call last)",
      "\u001b[1;32me:\\Polinemaa\\Matkul\\Semester 5\\Pembelajaran Mesin\\Machine_Learning_2023\\Pertemuan 5\\Kuis1.ipynb Cell 15\u001b[0m line \u001b[0;36m5\n\u001b[0;32m      <a href='vscode-notebook-cell:/e%3A/Polinemaa/Matkul/Semester%205/Pembelajaran%20Mesin/Machine_Learning_2023/Pertemuan%205/Kuis1.ipynb#X31sZmlsZQ%3D%3D?line=1'>2</a>\u001b[0m y \u001b[39m=\u001b[39m mnist\u001b[39m.\u001b[39mtarget\n\u001b[0;32m      <a href='vscode-notebook-cell:/e%3A/Polinemaa/Matkul/Semester%205/Pembelajaran%20Mesin/Machine_Learning_2023/Pertemuan%205/Kuis1.ipynb#X31sZmlsZQ%3D%3D?line=3'>4</a>\u001b[0m \u001b[39m# Standard scaling to normalize pixel values\u001b[39;00m\n\u001b[1;32m----> <a href='vscode-notebook-cell:/e%3A/Polinemaa/Matkul/Semester%205/Pembelajaran%20Mesin/Machine_Learning_2023/Pertemuan%205/Kuis1.ipynb#X31sZmlsZQ%3D%3D?line=4'>5</a>\u001b[0m scaler \u001b[39m=\u001b[39m MinMaxScaler()\n\u001b[0;32m      <a href='vscode-notebook-cell:/e%3A/Polinemaa/Matkul/Semester%205/Pembelajaran%20Mesin/Machine_Learning_2023/Pertemuan%205/Kuis1.ipynb#X31sZmlsZQ%3D%3D?line=5'>6</a>\u001b[0m X_normalized \u001b[39m=\u001b[39m scaler\u001b[39m.\u001b[39mfit_transform(X)\n",
      "\u001b[1;31mNameError\u001b[0m: name 'MinMaxScaler' is not defined"
     ]
    }
   ],
   "source": [
    "X = mnist.data.to_numpy(dtype=int)\n",
    "y = mnist.target\n",
    "\n",
    "# Standard scaling to normalize pixel values\n",
    "scaler = MinMaxScaler()\n",
    "X_normalized = scaler.fit_transform(X)"
   ]
  },
  {
   "cell_type": "markdown",
   "metadata": {},
   "source": [
    "- **Data Training dan Testing dengan Rasio 70:30**"
   ]
  },
  {
   "cell_type": "code",
   "execution_count": 6,
   "metadata": {},
   "outputs": [
    {
     "ename": "NameError",
     "evalue": "name 'X_normalized' is not defined",
     "output_type": "error",
     "traceback": [
      "\u001b[1;31m---------------------------------------------------------------------------\u001b[0m",
      "\u001b[1;31mNameError\u001b[0m                                 Traceback (most recent call last)",
      "\u001b[1;32me:\\Polinemaa\\Matkul\\Semester 5\\Pembelajaran Mesin\\Machine_Learning_2023\\Pertemuan 5\\Kuis1.ipynb Cell 17\u001b[0m line \u001b[0;36m6\n\u001b[0;32m      <a href='vscode-notebook-cell:/e%3A/Polinemaa/Matkul/Semester%205/Pembelajaran%20Mesin/Machine_Learning_2023/Pertemuan%205/Kuis1.ipynb#X33sZmlsZQ%3D%3D?line=1'>2</a>\u001b[0m \u001b[39mimport\u001b[39;00m \u001b[39mmatplotlib\u001b[39;00m\u001b[39m.\u001b[39;00m\u001b[39mpyplot\u001b[39;00m \u001b[39mas\u001b[39;00m \u001b[39mplt\u001b[39;00m\n\u001b[0;32m      <a href='vscode-notebook-cell:/e%3A/Polinemaa/Matkul/Semester%205/Pembelajaran%20Mesin/Machine_Learning_2023/Pertemuan%205/Kuis1.ipynb#X33sZmlsZQ%3D%3D?line=4'>5</a>\u001b[0m \u001b[39m# Split the data into training (70%) and testing (30%) sets\u001b[39;00m\n\u001b[1;32m----> <a href='vscode-notebook-cell:/e%3A/Polinemaa/Matkul/Semester%205/Pembelajaran%20Mesin/Machine_Learning_2023/Pertemuan%205/Kuis1.ipynb#X33sZmlsZQ%3D%3D?line=5'>6</a>\u001b[0m X_train_70, X_test_30, y_train_70, y_test_30 \u001b[39m=\u001b[39m train_test_split(X_normalized, y, test_size\u001b[39m=\u001b[39m\u001b[39m0.3\u001b[39m, random_state\u001b[39m=\u001b[39m\u001b[39m42\u001b[39m)\n\u001b[0;32m      <a href='vscode-notebook-cell:/e%3A/Polinemaa/Matkul/Semester%205/Pembelajaran%20Mesin/Machine_Learning_2023/Pertemuan%205/Kuis1.ipynb#X33sZmlsZQ%3D%3D?line=7'>8</a>\u001b[0m \u001b[39mprint\u001b[39m(\u001b[39m\"\u001b[39m\u001b[39mRasio 70:30\u001b[39m\u001b[39m\"\u001b[39m)\n\u001b[0;32m      <a href='vscode-notebook-cell:/e%3A/Polinemaa/Matkul/Semester%205/Pembelajaran%20Mesin/Machine_Learning_2023/Pertemuan%205/Kuis1.ipynb#X33sZmlsZQ%3D%3D?line=8'>9</a>\u001b[0m \u001b[39mprint\u001b[39m(\u001b[39m\"\u001b[39m\u001b[39mData Training:\u001b[39m\u001b[39m\"\u001b[39m, X_train_70\u001b[39m.\u001b[39mshape, y_train_70\u001b[39m.\u001b[39mshape)\n",
      "\u001b[1;31mNameError\u001b[0m: name 'X_normalized' is not defined"
     ]
    }
   ],
   "source": [
    "from sklearn.model_selection import train_test_split\n",
    "import matplotlib.pyplot as plt\n",
    "\n",
    "\n",
    "# Split the data into training (70%) and testing (30%) sets\n",
    "X_train_70, X_test_30, y_train_70, y_test_30 = train_test_split(X_normalized, y, test_size=0.3, random_state=42)\n",
    "\n",
    "print(\"Rasio 70:30\")\n",
    "print(\"Data Training:\", X_train_70.shape, y_train_70.shape)\n",
    "print(\"Data Testing:\", X_test_30.shape, y_test_30.shape)\n",
    "print(\"\")"
   ]
  },
  {
   "cell_type": "markdown",
   "metadata": {},
   "source": [
    "## Soal 3"
   ]
  },
  {
   "cell_type": "code",
   "execution_count": null,
   "metadata": {},
   "outputs": [],
   "source": [
    "from sklearn.preprocessing import StandardScaler,MinMaxScaler\n",
    "from sklearn.decomposition import PCA\n",
    "\n",
    "# No 3\n",
    "# Initialize and train PCA model\n",
    "pca = PCA(n_components=150, whiten=True, random_state=42)\n",
    "\n",
    "# Rasio 70:30\n",
    "X_train_70_pca = pca.fit_transform(X_train_70)\n",
    "X_test_30_pca = pca.transform(X_test_30)\n",
    "\n",
    "# Rasio 80:20\n",
    "X_train_80_pca = pca.fit_transform(X_train_80)\n",
    "X_test_20_pca = pca.transform(X_test_20)\n",
    "\n",
    "# Rasio 90:10\n",
    "X_train_90_pca = pca.fit_transform(X_train_90)\n",
    "X_test_10_pca = pca.transform(X_test_10)"
   ]
  }
 ],
 "metadata": {
  "kernelspec": {
   "display_name": "base",
   "language": "python",
   "name": "python3"
  },
  "language_info": {
   "codemirror_mode": {
    "name": "ipython",
    "version": 3
   },
   "file_extension": ".py",
   "mimetype": "text/x-python",
   "name": "python",
   "nbconvert_exporter": "python",
   "pygments_lexer": "ipython3",
   "version": "3.11.4"
  }
 },
 "nbformat": 4,
 "nbformat_minor": 2
}
